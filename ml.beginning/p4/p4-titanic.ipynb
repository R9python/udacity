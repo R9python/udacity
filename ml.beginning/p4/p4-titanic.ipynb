{
 "cells": [
  {
   "cell_type": "markdown",
   "metadata": {},
   "source": [
    "### 究竟有哪些因素会对生还率产生影响了?"
   ]
  },
  {
   "cell_type": "markdown",
   "metadata": {},
   "source": [
    "我的思考:\n",
    "\n",
    "1.我猜测年轻者年富力强，而年纪大者可能行动不便，这是否会导致年轻者比年纪大者的生还率更高? （需要排除掉儿童）\n",
    "\n",
    "2.男性和女性谁的生还率比较高?\n",
    "  --维基百科资料显示:泰坦尼克在使用救生艇的时候有下达命令让妇孺先上艇，会不会导致女性以及儿童生还者率较高？\n",
    "\n",
    "3.是一个人出行,还是有朋友/家人陪伴? 这个因素是否会影响到乘客的生还率?\n",
    "\n",
    "4.plcass+sex：联合两个数据调查，查看一下男性在1，2，3等舱各自的生还率， 以及女性在1，2，3等舱各自的生还率.\n",
    "\n",
    "下面我们一步步来探索一下吧! let go!"
   ]
  },
  {
   "cell_type": "markdown",
   "metadata": {},
   "source": [
    "### 首先把数据加载进来,看看它的样子"
   ]
  },
  {
   "cell_type": "code",
   "execution_count": 182,
   "metadata": {},
   "outputs": [
    {
     "name": "stdout",
     "output_type": "stream",
     "text": [
      "<class 'pandas.core.frame.DataFrame'>\n",
      "   PassengerId  Survived  Pclass  \\\n",
      "0            1         0       3   \n",
      "1            2         1       1   \n",
      "2            3         1       3   \n",
      "3            4         1       1   \n",
      "4            5         0       3   \n",
      "\n",
      "                                                Name     Sex   Age  SibSp  \\\n",
      "0                            Braund, Mr. Owen Harris    male  22.0      1   \n",
      "1  Cumings, Mrs. John Bradley (Florence Briggs Th...  female  38.0      1   \n",
      "2                             Heikkinen, Miss. Laina  female  26.0      0   \n",
      "3       Futrelle, Mrs. Jacques Heath (Lily May Peel)  female  35.0      1   \n",
      "4                           Allen, Mr. William Henry    male  35.0      0   \n",
      "\n",
      "   Parch            Ticket     Fare Cabin Embarked  \n",
      "0      0         A/5 21171   7.2500   NaN        S  \n",
      "1      0          PC 17599  71.2833   C85        C  \n",
      "2      0  STON/O2. 3101282   7.9250   NaN        S  \n",
      "3      0            113803  53.1000  C123        S  \n",
      "4      0            373450   8.0500   NaN        S  \n"
     ]
    }
   ],
   "source": [
    "# -*- coding: UTF-8 -*-\n",
    "import unicodecsv\n",
    "\n",
    "def read_csv(filename):\n",
    "    with open(filename, 'rb') as f:\n",
    "        reader = unicodecsv.DictReader(f)\n",
    "        return list(reader)\n",
    "    \n",
    "passenger_list = read_csv('p4-titanic-data.csv')\n",
    "\n",
    "import numpy as np\n",
    "import pandas as pd\n",
    "\n",
    "# ----- The second submission -----\n",
    "# 返回的是pandas.dataframe\n",
    "# 这样可以在后面的调查中使用上DataFrame的各种Built-in function,而不用总是使用list\n",
    "passenger_df = pd.read_csv('p4-titanic-data.csv')\n",
    "\n",
    "# print type(passenger_list)\n",
    "print type(passenger_df)\n",
    "print passenger_df.head()\n",
    "\n",
    "# print passenger_df['Age'][0]\n",
    "# print type(passenger_df['Age'][0])\n"
   ]
  },
  {
   "cell_type": "markdown",
   "metadata": {},
   "source": [
    "### 为了方便后续的计算,修正一下数据类型"
   ]
  },
  {
   "cell_type": "code",
   "execution_count": 183,
   "metadata": {},
   "outputs": [
    {
     "name": "stdout",
     "output_type": "stream",
     "text": [
      "{u'Fare': 7.25, u'Name': u'Braund, Mr. Owen Harris', u'Embarked': u'S', u'Age': 22.0, u'Parch': 0, u'Pclass': 3, u'Sex': u'male', u'Survived': 0, u'SibSp': 1, u'PassengerId': 1, u'Ticket': u'A/5 21171', u'Cabin': u''}\n"
     ]
    }
   ],
   "source": [
    "from datetime import datetime as dt\n",
    "from decimal import Decimal\n",
    "\n",
    "# convert string to int or None\n",
    "def parse_maybe_int(i):\n",
    "    if i == '':\n",
    "        return None\n",
    "    else:\n",
    "        return int(i)\n",
    "    \n",
    "# convert string to float or None\n",
    "def parse_maybe_float(f):\n",
    "    if f == '' or f == None:\n",
    "        return None\n",
    "    else:\n",
    "        return float(f)\n",
    "    \n",
    "for p in passenger_list:\n",
    "    p['PassengerId'] = parse_maybe_int(p['PassengerId'])\n",
    "    p['Survived'] = parse_maybe_int(p['Survived'])\n",
    "    p['Pclass'] = parse_maybe_int(p['Pclass'])\n",
    "    p['Age'] = parse_maybe_float(p['Age'])\n",
    "    p['SibSp'] = parse_maybe_int(p['SibSp'])\n",
    "    p['Parch'] = parse_maybe_int(p['Parch'])\n",
    "    p['Fare'] = parse_maybe_float(p['Fare'])\n",
    "        \n",
    "print passenger_list[0]"
   ]
  },
  {
   "cell_type": "markdown",
   "metadata": {},
   "source": [
    "### 验证一下数据的合理性"
   ]
  },
  {
   "cell_type": "code",
   "execution_count": 142,
   "metadata": {},
   "outputs": [
    {
     "name": "stdout",
     "output_type": "stream",
     "text": [
      "Name - 总数: 891 ; 去重后的数量: 891 ; 相差: 0\n",
      "Ticket - 总数: 891 ; 去重后的数量: 681 ; 相差: 210\n"
     ]
    }
   ],
   "source": [
    "#统计某一个列数据去重后的数量\n",
    "# def count_csv(csv_list, col_name):\n",
    "#     dict_data = {}\n",
    "#     for r in csv_list:\n",
    "#         dict_data[r[col_name]] = 0\n",
    "#     return len(csv_list),len(dict_data),len(csv_list)-len(dict_data)\n",
    "\n",
    "# distinct_name_result = count_csv(passenger_list, 'Name')\n",
    "# distinct_ticket_result = count_csv(passenger_list, 'Ticket')\n",
    "\n",
    "# ----- The second submission -----\n",
    "# df.duplicated() 返回一个布尔型Series,表示各行是否重复行\n",
    "# df.drop_duplicates方法，它用于返回一个移除了重复行的DataFrame\n",
    "# 指定部分列使用drop_duplicates(['XXX'])\n",
    "def count_csv(df, col_name):\n",
    "    non_duplicate_df = df.drop_duplicates([col_name])    \n",
    "    return len(df),len(non_duplicate_df),len(df)-len(non_duplicate_df)\n",
    "\n",
    "distinct_name_result = count_csv(passenger_df, 'Name')\n",
    "distinct_ticket_result = count_csv(passenger_df, 'Ticket')\n",
    "\n",
    "print 'Name - 总数:',distinct_name_result[0], '; 去重后的数量:',distinct_name_result[1], '; 相差:',distinct_name_result[2]\n",
    "print 'Ticket - 总数:',distinct_ticket_result[0], '; 去重后的数量:',distinct_ticket_result[1], '; 相差:',distinct_ticket_result[2]"
   ]
  },
  {
   "cell_type": "code",
   "execution_count": 184,
   "metadata": {},
   "outputs": [
    {
     "name": "stdout",
     "output_type": "stream",
     "text": [
      "Age - 总数: 891 ;去除空缺数据后: 714 ;缺失 177 ;缺失比例: 0.198653198653\n",
      "Ticket - 总数: 891 ;去除空缺数据后: 891 ;缺失 0 ;缺失比例: 0.0\n",
      "Cabin - 总数: 891 ;去除空缺数据后: 204 ;缺失 687 ;缺失比例: 0.771043771044\n",
      "SibSp - 总数: 891 ;去除空缺数据后: 891 ;缺失 0 ;缺失比例: 0.0\n",
      "Parch - 总数: 891 ;去除空缺数据后: 891 ;缺失 0 ;缺失比例: 0.0\n",
      "----- The second submission -----\n",
      "<class 'pandas.core.frame.DataFrame'>\n",
      "RangeIndex: 891 entries, 0 to 890\n",
      "Data columns (total 12 columns):\n",
      "PassengerId    891 non-null int64\n",
      "Survived       891 non-null int64\n",
      "Pclass         891 non-null int64\n",
      "Name           891 non-null object\n",
      "Sex            891 non-null object\n",
      "Age            714 non-null float64\n",
      "SibSp          891 non-null int64\n",
      "Parch          891 non-null int64\n",
      "Ticket         891 non-null object\n",
      "Fare           891 non-null float64\n",
      "Cabin          204 non-null object\n",
      "Embarked       889 non-null object\n",
      "dtypes: float64(2), int64(5), object(5)\n",
      "memory usage: 83.6+ KB\n",
      "None\n"
     ]
    }
   ],
   "source": [
    "#计算某一列数据是否有缺失\n",
    "def count_missing(csv_list, col_name):\n",
    "#     #1\n",
    "#     total_count = 0    \n",
    "#     for r in csv_list:\n",
    "#         if r[col_name] != None and r[col_name] != '':\n",
    "#             total_count += 1\n",
    "#     return len(csv_list), total_count\n",
    "\n",
    "    #2\n",
    "    a = [1 if r[col_name] != None and r[col_name] != '' else 0 for r in csv_list]    \n",
    "    return len(csv_list), sum(a),len(csv_list)-sum(a),(len(csv_list)-sum(a))*1.0/len(csv_list)\n",
    "\n",
    "count_missing_age = count_missing(passenger_list, 'Age')\n",
    "count_missing_ticket = count_missing(passenger_list, 'Ticket')\n",
    "count_missing_cabin = count_missing(passenger_list, 'Cabin')\n",
    "count_missing_sibsp = count_missing(passenger_list, 'SibSp')\n",
    "count_missing_parch = count_missing(passenger_list, 'Parch')\n",
    "\n",
    "\n",
    "print 'Age - 总数:',count_missing_age[0],';去除空缺数据后:',count_missing_age[1],';缺失',count_missing_age[2],';缺失比例:',count_missing_age[3]\n",
    "print 'Ticket - 总数:',count_missing_ticket[0],';去除空缺数据后:',count_missing_ticket[1],';缺失',count_missing_ticket[2],';缺失比例:',count_missing_ticket[3]\n",
    "print 'Cabin - 总数:',count_missing_cabin[0],';去除空缺数据后:',count_missing_cabin[1],';缺失',count_missing_cabin[2],';缺失比例:',count_missing_cabin[3]\n",
    "print 'SibSp - 总数:',count_missing_sibsp[0],';去除空缺数据后:',count_missing_sibsp[1],';缺失',count_missing_sibsp[2],';缺失比例:',count_missing_sibsp[3]\n",
    "print 'Parch - 总数:',count_missing_parch[0],';去除空缺数据后:',count_missing_parch[1],';缺失',count_missing_parch[2],';缺失比例:',count_missing_parch[3]\n",
    "\n",
    "print '----- The second submission -----'\n",
    "# ----- The second submission -----\n",
    "# 使用info()即可查看 DataFrame overview information\n",
    "print passenger_df.info() "
   ]
  },
  {
   "cell_type": "markdown",
   "metadata": {},
   "source": [
    "数据合理性小结:\n",
    "\n",
    "1).并没有重复乘客的数据.\n",
    "\n",
    "2).有重复的Ticket,说明有一张票多人使用的情况存在.\n",
    "\n",
    "3).有177条数据缺失年龄信息,约占总数19.87%.\n",
    "\n",
    "4).有687条数据缺失舱室信息,约占总数77.10%\n",
    "\n",
    "\n"
   ]
  },
  {
   "cell_type": "markdown",
   "metadata": {},
   "source": [
    "### 数据探索"
   ]
  },
  {
   "cell_type": "markdown",
   "metadata": {},
   "source": [
    "#### 首先调查一下年龄和生还率之间的关系"
   ]
  },
  {
   "cell_type": "markdown",
   "metadata": {},
   "source": [
    "为了方便后面根据Age分析数据,需要生成一个新的数据集 -> 即去除没有Age信息后的的数据集合."
   ]
  },
  {
   "cell_type": "code",
   "execution_count": 185,
   "metadata": {},
   "outputs": [
    {
     "name": "stdout",
     "output_type": "stream",
     "text": [
      "714\n"
     ]
    }
   ],
   "source": [
    "#去除信息缺失的数据\n",
    "# def remove_missing(csv_list, col_name):\n",
    "#     result_list = []\n",
    "#     [result_list.append(r) if r[col_name] != None and r[col_name] != '' else 0  for r in csv_list]\n",
    "#     return result_list\n",
    "    \n",
    "# #去除没有Age信息后的的数据集合\n",
    "# age_complete_data = remove_missing(passenger_list, 'Age')\n",
    "# print len(age_complete_data)\n",
    "\n",
    "# ----- The second submission -----\n",
    "# 去除缺失数据使用dropna()\n",
    "# 指定根据某一列删除缺失数据,使用subset\n",
    "# https://pandas.pydata.org/pandas-docs/stable/generated/pandas.DataFrame.dropna.html\n",
    "def remove_missing(df, col_name):    \n",
    "    return df.dropna(subset=[col_name])\n",
    "\n",
    "age_df = remove_missing(passenger_df, 'Age')\n",
    "print len(age_df)"
   ]
  },
  {
   "cell_type": "code",
   "execution_count": 186,
   "metadata": {},
   "outputs": [
    {
     "name": "stdout",
     "output_type": "stream",
     "text": [
      "----- UnSurvived * Age * Blue color-----\n",
      "Mean: 30.6261792453\n",
      "Standard deviation: 14.1553876178\n",
      "Minimum: 1.0\n",
      "Maximum: 74.0\n",
      "----- Survived * Age * Green color-----\n",
      "Mean: 28.3436896552\n",
      "Standard deviation: 14.9251522203\n",
      "Minimum: 0.42\n",
      "Maximum: 80.0\n"
     ]
    },
    {
     "data": {
      "image/png": "[encoded data removed]",
      "text/plain": [
       "<matplotlib.figure.Figure at 0x7d217b8>"
      ]
     },
     "metadata": {},
     "output_type": "display_data"
    }
   ],
   "source": [
    "# # 输出数据的基本统计信息\n",
    "# # data为list\n",
    "# def describe_data(data):\n",
    "#     print 'Mean:', np.mean(data)\n",
    "#     print 'Standard deviation:', np.std(data)\n",
    "#     print 'Minimum:', np.min(data)\n",
    "#     print 'Maximum:', np.max(data)\n",
    "\n",
    "# # 构造一个年龄的DataFrame\n",
    "# age_df = pd.DataFrame({\n",
    "#     'Survived':[r['Survived'] for r in age_complete_data],\n",
    "#     'Age':[r['Age'] for r in age_complete_data]\n",
    "# })\n",
    "\n",
    "%matplotlib inline\n",
    "import matplotlib.pyplot as plt\n",
    "import seaborn as sns\n",
    "sns.set(color_codes=True)#导入seaborn包设定颜色\n",
    "\n",
    "# 输出数据的基本统计信息,以及图形\n",
    "# data为list\n",
    "def describe_data_with_chat(data):\n",
    "    print 'Mean:', np.mean(data)\n",
    "    print 'Standard deviation:', np.std(data)\n",
    "    print 'Minimum:', np.min(data)\n",
    "    print 'Maximum:', np.max(data)\n",
    "    plt.title(\"\")\n",
    "    plt.xlabel(\"Age\")\n",
    "    plt.hist(data, bins=20)\n",
    "\n",
    "survived_age_list = age_df['Age'][age_df['Survived']==1]\n",
    "unsurvived_age_list = age_df['Age'][age_df['Survived']==0]\n",
    "\n",
    "print '----- UnSurvived * Age * Blue color-----'\n",
    "describe_data_with_chat(unsurvived_age_list)\n",
    "print '----- Survived * Age * Green color-----'\n",
    "describe_data_with_chat(survived_age_list)"
   ]
  },
  {
   "cell_type": "markdown",
   "metadata": {
    "collapsed": true
   },
   "source": [
    "从上面根据年龄分析的数据来看，发现生还和未生还的乘客，他们的年龄主要集中在15-30岁之间，但并不能说明什么问题，可能只是15-30这个年龄段的乘客人数最多，因此需要先统计各个年龄段的总人数，然后计算该年龄段的生还者和未生还者在该年龄段所占的比例。"
   ]
  },
  {
   "cell_type": "code",
   "execution_count": 146,
   "metadata": {
    "scrolled": true
   },
   "outputs": [
    {
     "name": "stdout",
     "output_type": "stream",
     "text": [
      "各个年龄区间(offset= 10 )的生还人数在该区间所占比例(%)\n",
      "Age_section\n",
      "(0, 10]     59.375000\n",
      "(10, 20]    38.260870\n",
      "(20, 30]    36.521739\n",
      "(30, 40]    44.516129\n",
      "(40, 50]    38.372093\n",
      "(50, 60]    40.476190\n",
      "(60, 70]    23.529412\n",
      "(70, 80]    20.000000\n",
      "Name: Survived, dtype: float64\n",
      "各个年龄区间(offset= 10 )的生还人数占总生还人数的比例(%)\n",
      "Age_section\n",
      "(0, 10]     13.103448\n",
      "(10, 20]    15.172414\n",
      "(20, 30]    28.965517\n",
      "(30, 40]    23.793103\n",
      "(40, 50]    11.379310\n",
      "(50, 60]     5.862069\n",
      "(60, 70]     1.379310\n",
      "(70, 80]     0.344828\n",
      "Name: Survived, dtype: float64\n"
     ]
    }
   ],
   "source": [
    "# # 计算某一个年龄段的生还人数在该年龄段所占百分比, 以及该年龄段生还人数占总生还人数的百分比\n",
    "# # 年龄段按offset划分offset=10, 表示0-10, 11-20\n",
    "# def survived_per_to_age(age, offset):\n",
    "#     age_section = age_df['Survived'][(age_df['Age']>age-offset) & (age_df['Age']<=age)]\n",
    "#     if len(age_section)>0:\n",
    "#         return round(sum(age_section)*1.0/len(age_section),4), \\\n",
    "#                 round(sum(age_section)*1.0/len(survived_age_list),4),\\\n",
    "#                 sum(age_section),\\\n",
    "#                 len(age_section)\n",
    "#     else:\n",
    "#         return 0,0,0,0\n",
    "\n",
    "# def describe_survived_per_to_age(start, offset):\n",
    "#     percent_list = [] #生还者在该年龄段所在百分比\n",
    "#     section_list = [] #该年龄段 age=10表示0-10, age=20表示11-20\n",
    "#     for i in range(start,20):\n",
    "#         age_section_result = survived_per_to_age(i*offset, offset)\n",
    "#         if age_section_result[0] > 0:\n",
    "#             section_list.append(i*offset)\n",
    "#             percent_list.append(age_section_result[0])\n",
    "#             print i*offset-offset,'-',i*offset, '岁生还乘客在该年龄段所占百分比(%):', age_section_result[0]*100 , \\\n",
    "#                     ';占总生还乘客的百分比(%):', age_section_result[1]*100,\\\n",
    "#                     ';该年龄段乘客生还人数:', age_section_result[2],\\\n",
    "#                     ';该年龄段乘客总人数:', age_section_result[3]\n",
    "#     return percent_list,section_list\n",
    "\n",
    "# percent_list_10, section_list_10 = describe_survived_per_to_age(1,10)\n",
    "\n",
    "\n",
    "# ----- The second submission -----\n",
    "# 使用pandas的cut\n",
    "# https://pandas.pydata.org/pandas-docs/stable/generated/pandas.cut.html\n",
    "def survived_per_to_age(start,offset):\n",
    "    bins = np.arange(start,90,offset) # 先构造一个用于分组的区间\n",
    "    passenger_df['Age_section'] = pd.cut(passenger_df['Age'],bins) # 新创建一列来存储分组后的数据\n",
    "    # 该区间的总人数,返回的是一个Series\n",
    "    total_passenger_section_sr = passenger_df.groupby(['Age_section']).count()['PassengerId'] \n",
    "    \n",
    "    # 该区间的生还人数,返回的是一个Series\n",
    "    survived_passenger_section_sr = passenger_df.groupby(['Age_section']).sum()['Survived']\n",
    "    \n",
    "    # 该区间的生还人数占该区间人数的百分比,返回的是一个Series\n",
    "#     percent_section_sr = survived_passenger_section_sr / total_passenger_section_sr\n",
    "    #各个组的存活率也可以使用groupby结合mean来得到。这里因为survived变量的值为0/1，所以我们直接对其求平均值就能够得到存活率。\n",
    "    percent_section_sr = passenger_df.groupby(['Age_section']).mean()['Survived']\n",
    "    \n",
    "    # 该区间的生还人数占该总人数的百分比,返回的是一个Series\n",
    "    total_survived_count = len(age_df[age_df['Survived']==1])\n",
    "    percent_total_sr = survived_passenger_section_sr / total_survived_count\n",
    "    \n",
    "    print '各个年龄区间(offset=',offset,')的生还人数在该区间所占比例(%)'\n",
    "    print percent_section_sr * 100\n",
    "    \n",
    "    print '各个年龄区间(offset=',offset,')的生还人数占总生还人数的比例(%)'\n",
    "    print percent_total_sr * 100\n",
    "    \n",
    "    return percent_section_sr\n",
    "    \n",
    "age_offset_10_series = survived_per_to_age(0,10)\n",
    "    \n",
    "    "
   ]
  },
  {
   "cell_type": "code",
   "execution_count": 187,
   "metadata": {},
   "outputs": [
    {
     "data": {
      "text/plain": [
       "<matplotlib.text.Text at 0x1048d390>"
      ]
     },
     "execution_count": 187,
     "metadata": {},
     "output_type": "execute_result"
    },
    {
     "data": {
      "image/png": "[encoded data removed]",
      "text/plain": [
       "<matplotlib.figure.Figure at 0xfc48be0>"
      ]
     },
     "metadata": {},
     "output_type": "display_data"
    }
   ],
   "source": [
    "# age_series = pd.Series(percent_list_10, index=section_list_10)\n",
    "# age_series.plot()\n",
    "\n",
    "# ----- The second submission -----\n",
    "age_offset_10_series.plot(kind='bar')\n",
    "plt.title('Age VS Survival Rate')\n",
    "plt.ylabel('Survival Rate')"
   ]
  },
  {
   "cell_type": "markdown",
   "metadata": {},
   "source": [
    "从上面可以看到两个特征:\n",
    "\n",
    "1.年龄和生还率的关系是随着年龄的增加,生还率逐渐降低;真是这样吗,先记录一个问号?\n",
    "\n",
    "2.还看到小于10岁的儿童们在他们这个年龄段生还率很高,所以可以推断当时确实有妇孺先上艇的命令下达;我们可以把age扩展至14岁(国际上通常把儿童定义为0-14岁)再次验证一下:"
   ]
  },
  {
   "cell_type": "code",
   "execution_count": 188,
   "metadata": {},
   "outputs": [
    {
     "name": "stdout",
     "output_type": "stream",
     "text": [
      "0-14岁儿童中生还乘客在该年龄段所占百分比(%): 58.44 ;占总生还乘客的百分比(%): 15.52 ;该年龄段乘客生还人数: 45 ;该年龄段乘客总人数: 77\n"
     ]
    }
   ],
   "source": [
    "# 统计一下0-14岁的儿童这个年龄段的生还乘客在该年龄段所占百分比,以及占总生还乘客的百分比\n",
    "def survived_per_to_child():\n",
    "    age_section = age_df['Survived'][(age_df['Age']>0) & (age_df['Age']<=14)]\n",
    "    if len(age_section)>0:\n",
    "        return round(sum(age_section)*1.0/len(age_section),4), \\\n",
    "                round(sum(age_section)*1.0/len(survived_age_list),4),\\\n",
    "                sum(age_section),\\\n",
    "                len(age_section)\n",
    "    else:\n",
    "        return 0,0,0,0\n",
    "# print survived_per_to_child()\n",
    "print '0-14岁儿童中生还乘客在该年龄段所占百分比(%):', survived_per_to_child()[0]*100 , \\\n",
    "                ';占总生还乘客的百分比(%):', survived_per_to_child()[1]*100,\\\n",
    "                ';该年龄段乘客生还人数:', survived_per_to_child()[2],\\\n",
    "                ';该年龄段乘客总人数:', survived_per_to_child()[3]"
   ]
  },
  {
   "cell_type": "markdown",
   "metadata": {},
   "source": [
    "为了更加严谨的调查 \"年轻者年富力强，而年纪大者可能行动不便，是否会导致年轻者比年纪大者的生还率更高? \" 这个问题(也即上面提到的年龄和生还率的关系是随着年龄的增加,生还率逐渐降低这个疑问),我们把0-14岁的儿童数据去除,只比较年龄在14岁以上的数据,然后绘制随年龄增加的生化率趋势图,发现并不存在年轻人生还率高的情况. 如下所示:"
   ]
  },
  {
   "cell_type": "code",
   "execution_count": 189,
   "metadata": {},
   "outputs": [
    {
     "name": "stdout",
     "output_type": "stream",
     "text": [
      "各个年龄区间(offset= 5 )的生还人数在该区间所占比例(%)\n",
      "Age_section\n",
      "(15, 20]     34.375000\n",
      "(20, 25]     34.426230\n",
      "(25, 30]     38.888889\n",
      "(30, 35]     46.590909\n",
      "(35, 40]     41.791045\n",
      "(40, 45]     36.170213\n",
      "(45, 50]     41.025641\n",
      "(50, 55]     41.666667\n",
      "(55, 60]     38.888889\n",
      "(60, 65]     28.571429\n",
      "(65, 70]      0.000000\n",
      "(70, 75]      0.000000\n",
      "(75, 80]    100.000000\n",
      "(80, 85]           NaN\n",
      "Name: Survived, dtype: float64\n",
      "各个年龄区间(offset= 5 )的生还人数占总生还人数的比例(%)\n",
      "Age_section\n",
      "(15, 20]    11.379310\n",
      "(20, 25]    14.482759\n",
      "(25, 30]    14.482759\n",
      "(30, 35]    14.137931\n",
      "(35, 40]     9.655172\n",
      "(40, 45]     5.862069\n",
      "(45, 50]     5.517241\n",
      "(50, 55]     3.448276\n",
      "(55, 60]     2.413793\n",
      "(60, 65]     1.379310\n",
      "(65, 70]     0.000000\n",
      "(70, 75]     0.000000\n",
      "(75, 80]     0.344828\n",
      "(80, 85]          NaN\n",
      "Name: Survived, dtype: float64\n"
     ]
    }
   ],
   "source": [
    "# 利用上面的函数,从15岁开始统计, 每间隔5岁作为一个统计区间\n",
    "# percent_list_5, section_list_5 = describe_survived_per_to_age(4,5)\n",
    "\n",
    "# ----- The second submission -----\n",
    "age_offset_5_series = survived_per_to_age(15,5)"
   ]
  },
  {
   "cell_type": "code",
   "execution_count": 190,
   "metadata": {},
   "outputs": [
    {
     "data": {
      "text/plain": [
       "<matplotlib.text.Text at 0x10c477f0>"
      ]
     },
     "execution_count": 190,
     "metadata": {},
     "output_type": "execute_result"
    },
    {
     "data": {
      "image/png": "[encoded data removed]",
      "text/plain": [
       "<matplotlib.figure.Figure at 0x10659d68>"
      ]
     },
     "metadata": {},
     "output_type": "display_data"
    }
   ],
   "source": [
    "# age_series = pd.Series(percent_list_5, index=section_list_5)\n",
    "# age_series.plot()\n",
    "\n",
    "# ----- The second submission -----\n",
    "age_offset_5_series.plot(kind='bar')\n",
    "plt.title('Age VS Survival Rate')\n",
    "plt.ylabel('Survival Rate')"
   ]
  },
  {
   "cell_type": "markdown",
   "metadata": {},
   "source": [
    "年龄数据分析小结:\n",
    "\n",
    "1.乘客年龄分布主要集中在15-30岁.\n",
    "\n",
    "2.分析各自年龄段的生还率,发现儿童这个年龄层的生还率较高,0-14岁儿童总人数77人,45人生还,生还率接近60%,可以推断当时很可能有妇孺先上艇的命令下达.(稍后会再次根据性别验证一下数据)\n",
    "\n",
    "3.\"年轻者年富力强，而年纪大者可能行动不便，这些是否会导致年轻者比年纪大者的生还率更高? \" -- 调查后发现数据并不支持此种说法."
   ]
  },
  {
   "cell_type": "markdown",
   "metadata": {
    "collapsed": true
   },
   "source": [
    "#### 下面调查一下性别和生还率之间有什么关系"
   ]
  },
  {
   "cell_type": "code",
   "execution_count": 191,
   "metadata": {},
   "outputs": [
    {
     "name": "stdout",
     "output_type": "stream",
     "text": [
      "男性乘客人数: 577 ;其中生还人数: 109 ;生还率(%) 18.89\n",
      "女性乘客人数: 314 ;其中生还人数: 233 ;生还率(%) 74.2\n"
     ]
    }
   ],
   "source": [
    "# # 构造一个性别的DataFrame\n",
    "# sex_df = pd.DataFrame({\n",
    "#     'Survived':[r['Survived'] for r in passenger_list],\n",
    "#     'Sex':[r['Sex'] for r in passenger_list]\n",
    "# })\n",
    "\n",
    "# 针对某一因素(例如Sex),分别计算它的生还数据(例如男性和女性)\n",
    "# return 总乘客数, 属于该factor_value的总乘客数, 属于该factor_value的生还乘客数,该factor_value的生还率\n",
    "def survived_per_to_factor(df,factor,factor_value):\n",
    "    total_passenger = len(df)\n",
    "    total_passenger_factor = len(df[df[factor] == factor_value])\n",
    "    total_passenger_factor_survived = sum(df[df[factor] == factor_value]['Survived'])\n",
    "    per_to_factor = total_passenger_factor_survived * 1.0 /total_passenger_factor\n",
    "    return total_passenger, total_passenger_factor, total_passenger_factor_survived, per_to_factor\n",
    "\n",
    "# male_result = survived_per_to_factor(sex_df, 'Sex', 'male')\n",
    "# female_result = survived_per_to_factor(sex_df, 'Sex', 'female')\n",
    "\n",
    "# ----- The second submission -----\n",
    "male_result = survived_per_to_factor(passenger_df, 'Sex', 'male')\n",
    "female_result = survived_per_to_factor(passenger_df, 'Sex', 'female')\n",
    "\n",
    "print '男性乘客人数:',male_result[1],';其中生还人数:',male_result[2],';生还率(%)',round(male_result[3]*100,2)\n",
    "print '女性乘客人数:',female_result[1],';其中生还人数:',female_result[2],';生还率(%)',round(female_result[3]*100,2)"
   ]
  },
  {
   "cell_type": "code",
   "execution_count": 203,
   "metadata": {},
   "outputs": [
    {
     "data": {
      "text/plain": [
       "<Container object of 2 artists>"
      ]
     },
     "execution_count": 203,
     "metadata": {},
     "output_type": "execute_result"
    },
    {
     "data": {
      "image/png": "[encoded data removed]",
      "text/plain": [
       "<matplotlib.figure.Figure at 0x10ab02e8>"
      ]
     },
     "metadata": {},
     "output_type": "display_data"
    }
   ],
   "source": [
    "# sex_series = pd.Series([male_result[3]*100,female_result[3]*100], index=['male', 'female'])\n",
    "# sex_series.plot()\n",
    "percent_data_by_sex = [male_result[3],female_result[3]]\n",
    "labels_sex = ['male', 'female']\n",
    "plt.title('Male VS Female Survival Rate')\n",
    "plt.ylabel('Survival Rate')\n",
    "plt.bar(range(len(percent_data_by_sex)), percent_data_by_sex, tick_label=labels_sex)"
   ]
  },
  {
   "cell_type": "markdown",
   "metadata": {},
   "source": [
    "性别数据分析小结:\n",
    "\n",
    "1.生还者中女性多于男性,总共生还人数342人,女性233人,占总生还人数的68%\n",
    "\n",
    "2.男性乘客的生还率远远低于女性,总共577名男性乘客,只有109人生还,生还率只有18.89%\n",
    "\n",
    "3.可以推断当时非常有可能是下达了妇孺先上艇的命令."
   ]
  },
  {
   "cell_type": "markdown",
   "metadata": {},
   "source": [
    "#### 接下来调查一下是否有人亲人陪伴这个因素和生还率之间的关系"
   ]
  },
  {
   "cell_type": "code",
   "execution_count": 204,
   "metadata": {},
   "outputs": [
    {
     "name": "stdout",
     "output_type": "stream",
     "text": [
      "0    False\n",
      "1    False\n",
      "2     True\n",
      "3    False\n",
      "4     True\n",
      "Name: IsLonely, dtype: bool\n"
     ]
    }
   ],
   "source": [
    "# 构造一个是否有人陪伴数据的DataFrame\n",
    "# lonely_df = pd.DataFrame({\n",
    "#     'Survived': [r['Survived'] for r in passenger_list],\n",
    "#     'IsLonely':[True if (r['SibSp'] + r['Parch']) ==0 else False for r in passenger_list]\n",
    "# })\n",
    "\n",
    "# ----- The second submission -----\n",
    "# 修改为直接在passenger_df中新添加新的一列IsLonely\n",
    "passenger_df['IsLonely'] = (passenger_df['SibSp'] + passenger_df['Parch']) == 0\n",
    "print passenger_df['IsLonely'].head()"
   ]
  },
  {
   "cell_type": "code",
   "execution_count": 205,
   "metadata": {
    "collapsed": true
   },
   "outputs": [],
   "source": [
    "lonely_result = survived_per_to_factor(passenger_df, 'IsLonely', True)\n",
    "not_lonely_result = survived_per_to_factor(passenger_df, 'IsLonely', False)"
   ]
  },
  {
   "cell_type": "code",
   "execution_count": 206,
   "metadata": {},
   "outputs": [
    {
     "name": "stdout",
     "output_type": "stream",
     "text": [
      "无人陪伴的乘客人数: 537 ;其中生还人数: 163 ;生还率(%) 30.35\n",
      "有人陪伴的乘客人数: 354 ;其中生还人数: 179 ;生还率(%) 50.56\n"
     ]
    }
   ],
   "source": [
    "print '无人陪伴的乘客人数:',lonely_result[1],';其中生还人数:',lonely_result[2],';生还率(%)',round(lonely_result[3]*100,2)\n",
    "print '有人陪伴的乘客人数:',not_lonely_result[1],';其中生还人数:',not_lonely_result[2],';生还率(%)',round(not_lonely_result[3]*100,2)"
   ]
  },
  {
   "cell_type": "code",
   "execution_count": 207,
   "metadata": {},
   "outputs": [
    {
     "data": {
      "text/plain": [
       "<Container object of 2 artists>"
      ]
     },
     "execution_count": 207,
     "metadata": {},
     "output_type": "execute_result"
    },
    {
     "data": {
      "image/png": "[encoded data removed]",
      "text/plain": [
       "<matplotlib.figure.Figure at 0x10aa1048>"
      ]
     },
     "metadata": {},
     "output_type": "display_data"
    }
   ],
   "source": [
    "percent_data_by_lonely = [lonely_result[3], not_lonely_result[3]]\n",
    "labels_lonely = ['lonely', 'not lonely']\n",
    "plt.title('Lonely VS Not lonely Survival Rate')\n",
    "plt.ylabel('Survival Rate')\n",
    "plt.bar(range(len(percent_data_by_lonely)), percent_data_by_lonely, tick_label=labels_lonely)"
   ]
  },
  {
   "cell_type": "markdown",
   "metadata": {},
   "source": [
    "是否有人陪伴数据分析小结:\n",
    "\n",
    "1.有人陪伴的乘客其生还率大于无人陪伴的乘客"
   ]
  },
  {
   "cell_type": "markdown",
   "metadata": {},
   "source": [
    "#### 在前面我们看到女性乘客的生还率较高,那最后我们再结合票的等级,来看一下哪一个舱位等级的女性的生还率较高?"
   ]
  },
  {
   "cell_type": "code",
   "execution_count": 216,
   "metadata": {},
   "outputs": [
    {
     "name": "stdout",
     "output_type": "stream",
     "text": [
      "----- 性别在各等级舱的总人数 -----\n",
      "Sex     Pclass\n",
      "female  1          94\n",
      "        2          76\n",
      "        3         144\n",
      "male    1         122\n",
      "        2         108\n",
      "        3         347\n",
      "Name: Survived, dtype: int64\n",
      "----- 性别在各等级舱的生还人数 -----\n",
      "Sex     Pclass\n",
      "female  1         91\n",
      "        2         70\n",
      "        3         72\n",
      "male    1         45\n",
      "        2         17\n",
      "        3         47\n",
      "Name: Survived, dtype: int64\n",
      "----- 性别在各等级舱的生还比例 -----\n",
      "Sex     Pclass\n",
      "female  1         0.968085\n",
      "        2         0.921053\n",
      "        3         0.500000\n",
      "male    1         0.368852\n",
      "        2         0.157407\n",
      "        3         0.135447\n",
      "Name: Survived, dtype: float64\n"
     ]
    }
   ],
   "source": [
    "# sex_pclass_df = pd.DataFrame({\n",
    "#     'Survived':[r['Survived'] for r in passenger_list],\n",
    "#     'Sex':[r['Sex'] for r in passenger_list],\n",
    "#     'Pclass':[r['Pclass'] for r in passenger_list]\n",
    "# })\n",
    "\n",
    "# ----- The second submission -----\n",
    "print '----- 性别在各等级舱的总人数 -----'\n",
    "spc_total = passenger_df.groupby(['Sex','Pclass']).count()['Survived']\n",
    "print spc_total\n",
    "print '----- 性别在各等级舱的生还人数 -----'\n",
    "spc_survived = passenger_df.groupby(['Sex','Pclass']).sum()['Survived']\n",
    "print spc_survived\n",
    "print '----- 性别在各等级舱的生还比例 -----'\n",
    "# def to_percent(x):\n",
    "#     return round(x*100,2)\n",
    "# # print spc_survived/spc_total\n",
    "# spc_survived_percent = (spc_survived/spc_total).apply(to_percent)\n",
    "spc_survived_percent = passenger_df.groupby(['Sex','Pclass']).mean()['Survived']\n",
    "print spc_survived_percent\n"
   ]
  },
  {
   "cell_type": "code",
   "execution_count": 217,
   "metadata": {},
   "outputs": [
    {
     "name": "stdout",
     "output_type": "stream",
     "text": [
      "----- before unstack()\n",
      "Sex     Pclass\n",
      "female  1         0.968085\n",
      "        2         0.921053\n",
      "        3         0.500000\n",
      "male    1         0.368852\n",
      "        2         0.157407\n",
      "        3         0.135447\n",
      "Name: Survived, dtype: float64\n",
      "----- after unstack()\n",
      "Pclass         1         2         3\n",
      "Sex                                 \n",
      "female  0.968085  0.921053  0.500000\n",
      "male    0.368852  0.157407  0.135447\n"
     ]
    },
    {
     "data": {
      "text/plain": [
       "<matplotlib.text.Text at 0x1215b978>"
      ]
     },
     "execution_count": 217,
     "metadata": {},
     "output_type": "execute_result"
    },
    {
     "data": {
      "image/png": "[encoded data removed]",
      "text/plain": [
       "<matplotlib.figure.Figure at 0x11ec5c50>"
      ]
     },
     "metadata": {},
     "output_type": "display_data"
    }
   ],
   "source": [
    "# spc_percent_values = spc_survived_percent.values\n",
    "# # 获取对应等级舱室的数据\n",
    "# def get_pclass_data(pclass):\n",
    "#     result = []\n",
    "#     result.append(spc_percent_values[pclass-1])\n",
    "#     result.append(spc_percent_values[pclass+2])\n",
    "#     return result\n",
    "# # print get_pclass_data(1)\n",
    "\n",
    "# sex_x = np.arange(2)\n",
    "# plt.bar(sex_x + 0.00, get_pclass_data(1), color = 'b', width = 0.25, )\n",
    "# plt.bar(sex_x + 0.25, get_pclass_data(2), color = 'g', width = 0.25, tick_label=['female - pclass 1 to 3', 'male - pclass 1 to 3'])\n",
    "# plt.bar(sex_x + 0.50, get_pclass_data(3), color = 'r', width = 0.25, )\n",
    "\n",
    "# ----- The second submission -----\n",
    "print '----- before unstack()'\n",
    "print spc_survived_percent\n",
    "print '----- after unstack()'\n",
    "print spc_survived_percent.unstack()\n",
    "\n",
    "# 使用unstack: 旋转（必须是分层的）索引标签的级别，返回具有新标签级别的DataFrame\n",
    "# unstack参考 https://pandas.pydata.org/pandas-docs/stable/generated/pandas.DataFrame.unstack.html\n",
    "# unstack built-in function还有哪些应用场景了???\n",
    "spc_survived_percent.unstack().plot(kind='bar')\n",
    "plt.title('Pclass VS Sex VS Survival Rate')\n",
    "plt.ylabel('Survival Rate')\n",
    "\n"
   ]
  },
  {
   "cell_type": "markdown",
   "metadata": {},
   "source": [
    "性别+舱室等级结合分析的小结:\n",
    "\n",
    "1.男性和女性在头等舱的生还率都分别高于其它等级舱室"
   ]
  },
  {
   "cell_type": "markdown",
   "metadata": {},
   "source": [
    "### 此次调查最终结论:\n",
    "\n",
    "1.我猜测年轻者年富力强，而年纪大者可能行动不便，这是否会导致年轻者比年纪大者的生还率更高? （需要排除掉儿童）.\n",
    "  \n",
    "----- _调查结果显示并不存在越年轻生还率越高的情况存在._\n",
    "\n",
    "2.男性和女性谁的生还率比较高? --维基百科资料显示:泰坦尼克在使用救生艇的时候有下达命令让妇孺先上艇，会不会导致女性以及儿童生还者率较高？\n",
    "\n",
    "----- _调查结果显示女性和儿童的生还率都较高,而男性的生还率则较低_\n",
    "\n",
    "3.是一个人出行,还是有朋友/家人陪伴? 是否会影响生还率?\n",
    "\n",
    "----- _调查结果显示有人陪伴的乘客生还率较高_\n",
    "\n",
    "4.plcass+sex：联合两个数据调查，查看一下男性在1，2，3等舱各自的生还率， 以及女性在1，2，3等舱各自的生还率\n",
    "\n",
    "----- _调查结果显示不管是女性还是男性,在一等舱的生还率都高于三等舱的_\n",
    "\n",
    "5.在得出上面这些结论的同时,我们也要认真的去想一想,这些结论是否有可能是在一些有干扰,有噪音,或者条件不充分的情况下产生的,导致了我们的判断出现偏差?\n",
    "\n",
    "----- 1) 我认为Cabin数据的缺失对我的生还率分析有很大影响,因为通过该数据,再对照维基百科的舱室分布(从上至下为A,B,C,D,E,F,G),可以了解在船舱中的不同舱室层的生还率(毕竟船舱进水是从最下层开始),而不是粗略的通过1,2,3这三个不同等级的票来统计数据.\n",
    "\n",
    "----- 2) 维基百科显示泰坦尼克载着1324乘客和892名甲板工作人员, 但此次数据分析使用的数据只有891条记录,并不是全部乘客数据,只占总数的40%,不到一半, 还有我并不清楚这批样本数据是否具有随机性,因此分析结果很可能存在偏差.\n",
    "\n",
    "----- 3) 我主观意识上一直觉得住在一等舱,买较贵票的乘客,属于富裕阶层,受过良好的教育,在遇到危机的时刻能做出较好的决策,导致生还率较高,这种主观意识可能也会导致分析存在偏差.\n"
   ]
  },
  {
   "cell_type": "code",
   "execution_count": null,
   "metadata": {
    "collapsed": true
   },
   "outputs": [],
   "source": []
  }
 ],
 "metadata": {
  "kernelspec": {
   "display_name": "Python 2",
   "language": "python",
   "name": "python2"
  },
  "language_info": {
   "codemirror_mode": {
    "name": "ipython",
    "version": 2
   },
   "file_extension": ".py",
   "mimetype": "text/x-python",
   "name": "python",
   "nbconvert_exporter": "python",
   "pygments_lexer": "ipython2",
   "version": "2.7.13"
  }
 },
 "nbformat": 4,
 "nbformat_minor": 2
}
